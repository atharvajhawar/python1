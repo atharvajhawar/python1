{
  "nbformat": 4,
  "nbformat_minor": 0,
  "metadata": {
    "colab": {
      "name": "Untitled6.ipynb",
      "provenance": []
    },
    "kernelspec": {
      "name": "python3",
      "display_name": "Python 3"
    },
    "language_info": {
      "name": "python"
    }
  },
  "cells": [
    {
      "cell_type": "code",
      "source": [
        "import requests\n",
        "from glob import glob\n",
        "from bs4 import BeautifulSoup\n",
        "import pandas as pd\n",
        "from datetime import datetime\n",
        "from time import sleep\n",
        "\n",
        "HEADERS = ({'User-Agent':\n",
        "            'Mozilla/5.0 (Windows NT 6.1) AppleWebKit/537.36 (KHTML, like Gecko) Chrome/41.0.2228.0 Safari/537.36',\n",
        "            'Accept-Language': 'en-US, en;q=0.5'})\n",
        "\n",
        "df = pd.read_csv('/content/Amazon Scraping - Sheet1.csv')\n",
        "output = []\n",
        "for index, row in df.iterrows():\n",
        "  country = row[\"country\"]\n",
        "  asin = row[\"Asin\"]\n",
        "  url = f\"https://www.amazon.{country}/dp/{asin}\"\n",
        "\n",
        "  page = requests.get(url, headers=HEADERS)\n",
        "  if page.status_code == 404:\n",
        "    print(f\"url: {url} not available\")\n",
        "    continue\n",
        "  if page.status_code == 200:\n",
        "    print(url)\n",
        "    soup = BeautifulSoup(page.content, features=\"html.parser\")\n",
        "    try:\n",
        "      # title = soup.find(\"span\", attrs={\"id\": 'productTitle'}).string.strip()\n",
        "      price = soup.find(\"span\", attrs={'id': 'price'}).string.strip()\n",
        "      img_url = soup.find(\"div\", id = 'img-canvas').find(\"img\")[\"src\"]\n",
        "      output.append({\n",
        "          \"title\": title,\n",
        "          \"price\": price,\n",
        "          \"image_url\": img_url\n",
        "      })\n",
        "    except:\n",
        "      continue\n"
      ],
      "metadata": {
        "colab": {
          "base_uri": "https://localhost:8080/"
        },
        "id": "yJpl56f1hgUF",
        "outputId": "3ba830e8-74d5-41e9-8e88-9bc6273702a2"
      },
      "execution_count": null,
      "outputs": [
        {
          "output_type": "stream",
          "name": "stdout",
          "text": [
            "url: https://www.amazon.de/dp/1015 not available\n",
            "url: https://www.amazon.fr/dp/1015 not available\n",
            "https://www.amazon.de/dp/000004458X\n",
            "url: https://www.amazon.fr/dp/000004458X not available\n",
            "url: https://www.amazon.de/dp/1002198 not available\n",
            "url: https://www.amazon.fr/dp/1002198 not available\n",
            "url: https://www.amazon.fr/dp/1002791 not available\n",
            "url: https://www.amazon.it/dp/1002791 not available\n",
            "url: https://www.amazon.de/dp/1002864 not available\n",
            "url: https://www.amazon.fr/dp/1002864 not available\n",
            "url: https://www.amazon.de/dp/1003704 not available\n",
            "url: https://www.amazon.fr/dp/1003704 not available\n",
            "url: https://www.amazon.de/dp/1003763 not available\n",
            "url: https://www.amazon.fr/dp/1003763 not available\n",
            "url: https://www.amazon.fr/dp/1004271 not available\n",
            "url: https://www.amazon.it/dp/1004271 not available\n",
            "https://www.amazon.de/dp/000101742X\n",
            "https://www.amazon.fr/dp/000101742X\n",
            "url: https://www.amazon.de/dp/1017519 not available\n",
            "url: https://www.amazon.fr/dp/1017519 not available\n",
            "https://www.amazon.de/dp/000102163X\n",
            "https://www.amazon.fr/dp/000102163X\n",
            "url: https://www.amazon.it/dp/1022369 not available\n",
            "url: https://www.amazon.it/dp/1022857 not available\n",
            "url: https://www.amazon.de/dp/1034677 not available\n",
            "url: https://www.amazon.fr/dp/1034677 not available\n",
            "url: https://www.amazon.de/dp/1034936 not available\n",
            "url: https://www.amazon.de/dp/1034944 not available\n",
            "url: https://www.amazon.de/dp/1035002 not available\n",
            "https://www.amazon.fr/dp/1035002\n",
            "url: https://www.amazon.fr/dp/1035029 not available\n",
            "url: https://www.amazon.es/dp/1035053 not available\n",
            "url: https://www.amazon.de/dp/1035339 not available\n",
            "url: https://www.amazon.es/dp/1036866 not available\n",
            "https://www.amazon.fr/dp/1036866\n",
            "url: https://www.amazon.de/dp/1037137 not available\n",
            "https://www.amazon.fr/dp/1037137\n",
            "url: https://www.amazon.fr/dp/1037994 not available\n",
            "https://www.amazon.de/dp/000103863X\n",
            "url: https://www.amazon.fr/dp/1040871 not available\n",
            "https://www.amazon.it/dp/1040871\n",
            "url: https://www.amazon.de/dp/1040979 not available\n",
            "url: https://www.amazon.fr/dp/1040979 not available\n",
            "url: https://www.amazon.de/dp/1040987 not available\n",
            "url: https://www.amazon.fr/dp/1040987 not available\n",
            "url: https://www.amazon.de/dp/1041002 not available\n",
            "https://www.amazon.de/dp/1043498\n",
            "https://www.amazon.fr/dp/1043498\n",
            "url: https://www.amazon.de/dp/1043773 not available\n",
            "url: https://www.amazon.fr/dp/1043773 not available\n",
            "https://www.amazon.fr/dp/000104396X\n",
            "url: https://www.amazon.fr/dp/1048325 not available\n",
            "url: https://www.amazon.de/dp/1049119 not available\n",
            "https://www.amazon.fr/dp/1057774\n",
            "https://www.amazon.es/dp/1057812\n",
            "https://www.amazon.fr/dp/1057812\n",
            "https://www.amazon.fr/dp/1057987\n",
            "https://www.amazon.fr/dp/1063685\n"
          ]
        }
      ]
    },
    {
      "cell_type": "code",
      "source": [
        ""
      ],
      "metadata": {
        "id": "bj7ib5QKnYi3"
      },
      "execution_count": null,
      "outputs": []
    }
  ]
}